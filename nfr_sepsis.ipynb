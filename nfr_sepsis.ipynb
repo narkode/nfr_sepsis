{
 "cells": [
  {
   "cell_type": "markdown",
   "metadata": {},
   "source": [
    "# Norepinephrine-to-fluid ratio (NFR) in septic patients"
   ]
  },
  {
   "cell_type": "markdown",
   "metadata": {},
   "source": [
    "## Import libraries etc."
   ]
  },
  {
   "cell_type": "code",
   "execution_count": 1,
   "metadata": {},
   "outputs": [],
   "source": [
    "# Import Pandas, Numpy and SQL-Connection\n",
    "import numpy as np\n",
    "import pandas as pd\n",
    "import psycopg2\n",
    "\n",
    "# Import ML- and statistic tools\n",
    "from sklearn.datasets import make_classification\n",
    "from sklearn.linear_model import LogisticRegression\n",
    "from sklearn.neighbors import KNeighborsClassifier\n",
    "from sklearn.ensemble import RandomForestClassifier\n",
    "from sklearn.model_selection import train_test_split\n",
    "from sklearn.metrics import roc_curve\n",
    "from sklearn.metrics import roc_auc_score\n",
    "from sklearn import preprocessing\n",
    "from math import sqrt\n",
    "import scipy.stats as stats\n",
    "\n",
    "# Import plotting tools\n",
    "import matplotlib.pyplot as plt\n",
    "import seaborn as sns\n",
    "\n",
    "# Import AmsterdamUMCdb\n",
    "import amsterdamumcdb as adb\n",
    "\n",
    "# Import local code\n",
    "import adbcalc as ac\n",
    "\n",
    "# Import graphviz\n",
    "import graphviz\n",
    "from graphviz import Digraph\n",
    "\n",
    "# Import stats\n",
    "from scipy.stats import pointbiserialr"
   ]
  },
  {
   "cell_type": "markdown",
   "metadata": {},
   "source": [
    "### Connection"
   ]
  },
  {
   "cell_type": "code",
   "execution_count": 2,
   "metadata": {},
   "outputs": [],
   "source": [
    "#Modify config.ini in the root folder of the repository to change the settings to connect to your postgreSQL database\n",
    "import configparser\n",
    "import os\n",
    "config = configparser.ConfigParser()\n",
    "\n",
    "if os.path.isfile('config.ini'):\n",
    "    config.read('config.ini')\n",
    "else:\n",
    "    config.read('../config.SAMPLE.ini')\n",
    "\n",
    "#Open a connection to the postgres database:\n",
    "con = psycopg2.connect(database=config['psycopg2']['database'], \n",
    "                       user=config['psycopg2']['username'], password=config['psycopg2']['password'], \n",
    "                       host=config['psycopg2']['host'], port=config['psycopg2']['port'])\n",
    "con.set_client_encoding('WIN1252') #Uses code page for Dutch accented characters.\n",
    "con.set_session(autocommit=True)\n",
    "\n",
    "cursor = con.cursor()\n",
    "cursor.execute('SET SCHEMA \\'amsterdamumcdb\\''); #set search_path to amsterdamumcdb schema"
   ]
  },
  {
   "cell_type": "markdown",
   "metadata": {},
   "source": [
    "### ROC-AUC Confidence interval calculation"
   ]
  },
  {
   "cell_type": "code",
   "execution_count": 3,
   "metadata": {},
   "outputs": [],
   "source": [
    "def roc_auc_ci(y_true, y_score, positive=1):\n",
    "    AUC = roc_auc_score(y_true, y_score)\n",
    "    N1 = sum(y_true == positive)\n",
    "    N2 = sum(y_true != positive)\n",
    "    Q1 = AUC / (2 - AUC)\n",
    "    Q2 = 2*AUC**2 / (1 + AUC)\n",
    "    SE_AUC = sqrt((AUC*(1 - AUC) + (N1 - 1)*(Q1 - AUC**2) + (N2 - 1)*(Q2 - AUC**2)) / (N1*N2))\n",
    "    lower = AUC - 1.96*SE_AUC\n",
    "    upper = AUC + 1.96*SE_AUC\n",
    "    if lower < 0:\n",
    "        lower = 0\n",
    "    if upper > 1:\n",
    "        upper = 1\n",
    "    return (round(lower, 2), round(upper, 2))"
   ]
  },
  {
   "cell_type": "markdown",
   "metadata": {},
   "source": [
    "## Data preparation"
   ]
  },
  {
   "cell_type": "markdown",
   "metadata": {},
   "source": [
    "### Define observation period in ms"
   ]
  },
  {
   "cell_type": "code",
   "execution_count": 4,
   "metadata": {},
   "outputs": [],
   "source": [
    "fluid_period = 3 * 24 * 60 * 60 * 1000"
   ]
  },
  {
   "cell_type": "markdown",
   "metadata": {},
   "source": [
    "### Execute SQL queries"
   ]
  },
  {
   "cell_type": "code",
   "execution_count": 5,
   "metadata": {},
   "outputs": [],
   "source": [
    "# Intake of crystalloids\n",
    "query = open('./sql/crystalloids.sql', 'r')\n",
    "crystalloids = pd.read_sql_query(query.read(), con, params={\"fluid_period\": fluid_period})"
   ]
  },
  {
   "cell_type": "code",
   "execution_count": 6,
   "metadata": {},
   "outputs": [],
   "source": [
    "# Intake of colloids\n",
    "query = open('./sql/colloids.sql', 'r')\n",
    "colloids = pd.read_sql_query(query.read(), con, params={\"fluid_period\": fluid_period})"
   ]
  },
  {
   "cell_type": "code",
   "execution_count": 7,
   "metadata": {},
   "outputs": [],
   "source": [
    "# Intake of blood products\n",
    "query = open('./sql/bloodproducts.sql', 'r')\n",
    "bloodproducts = pd.read_sql_query(query.read(), con, params={\"fluid_period\": fluid_period})"
   ]
  },
  {
   "cell_type": "code",
   "execution_count": 8,
   "metadata": {},
   "outputs": [],
   "source": [
    "# Intake of norepinephrine\n",
    "query = open('./sql/norepinephrine.sql', 'r')\n",
    "norepinephrine = pd.read_sql_query(query.read(), con, params={\"fluid_period\": fluid_period})"
   ]
  },
  {
   "cell_type": "markdown",
   "metadata": {},
   "source": [
    "### Calculate cumulative doses"
   ]
  },
  {
   "cell_type": "code",
   "execution_count": 9,
   "metadata": {},
   "outputs": [],
   "source": [
    "# Calculate the norepinephrine dose in microgram (mcg) for every episode of norepinephrine infusion\n",
    "norepi_mcg = [ac.calculate_dose(norepinephrine['start'][i], \\\n",
    "                                          norepinephrine['stop'][i], \\\n",
    "                                          fluid_period, \\\n",
    "                                          norepinephrine['dose'][i], \\\n",
    "                                          1)\n",
    "              for i in norepinephrine.index]"
   ]
  },
  {
   "cell_type": "code",
   "execution_count": 10,
   "metadata": {},
   "outputs": [],
   "source": [
    "# Calculate the crystalloid volume in mililiters (ml) for every episode of crystalloid infusion\n",
    "crystalloids_ml = [ac.calculate_dose(crystalloids['start'][i], \\\n",
    "                                          crystalloids['stop'][i], \\\n",
    "                                          fluid_period, \\\n",
    "                                          crystalloids['dose'][i], \\\n",
    "                                          2)\n",
    "              for i in crystalloids.index]"
   ]
  },
  {
   "cell_type": "code",
   "execution_count": 11,
   "metadata": {},
   "outputs": [],
   "source": [
    "# Calculate the colloid volume in mililiters (ml) for every episode of colloid infusion\n",
    "colloids_ml = [ac.calculate_dose(colloids['start'][i], \\\n",
    "                                          colloids['stop'][i], \\\n",
    "                                          fluid_period, \\\n",
    "                                          colloids['dose'][i], \\\n",
    "                                          2)\n",
    "              for i in colloids.index]"
   ]
  },
  {
   "cell_type": "code",
   "execution_count": 12,
   "metadata": {},
   "outputs": [],
   "source": [
    "# Calculate the bloodproducts volume in mililiters (ml) for every episode of bloodproduct infusion\n",
    "bloodproducts_ml = [ac.calculate_dose(bloodproducts['start'][i], \\\n",
    "                                          bloodproducts['stop'][i], \\\n",
    "                                          fluid_period, \\\n",
    "                                          bloodproducts['dose'][i], \\\n",
    "                                          2)\n",
    "              for i in bloodproducts.index]"
   ]
  },
  {
   "cell_type": "code",
   "execution_count": 13,
   "metadata": {},
   "outputs": [],
   "source": [
    "# Add columns with cumulative dose\n",
    "norepinephrine['norepi_mcg'] = norepi_mcg\n",
    "crystalloids['crystalloids_ml'] = crystalloids_ml\n",
    "colloids['colloids_ml'] = colloids_ml\n",
    "bloodproducts['bloodproducts_ml'] = bloodproducts_ml"
   ]
  },
  {
   "cell_type": "code",
   "execution_count": 14,
   "metadata": {},
   "outputs": [],
   "source": [
    "# Sum up all intervals\n",
    "norepinephrine_sum = norepinephrine[['admissionid', 'norepi_mcg']].groupby(['admissionid']).sum()\n",
    "norepinephrine_max = norepinephrine[['admissionid', 'dose', 'stop']].groupby(['admissionid']).max().rename({'dose': 'norepi_max_dose', 'stop': 'norepi_max_dose_stop'}, axis='columns')\n",
    "crystalloids_sum = crystalloids[['admissionid', 'crystalloids_ml']].groupby(['admissionid']).sum()\n",
    "colloids_sum = colloids[['admissionid', 'colloids_ml']].groupby(['admissionid']).sum()\n",
    "bloodproducts_sum = bloodproducts[['admissionid', 'bloodproducts_ml']].groupby(['admissionid']).sum()"
   ]
  },
  {
   "cell_type": "markdown",
   "metadata": {},
   "source": [
    "### Merge Pandas DataFrames"
   ]
  },
  {
   "cell_type": "code",
   "execution_count": 15,
   "metadata": {},
   "outputs": [],
   "source": [
    "# Import septic patients based on the reason_for_admission.ipynb\n",
    "# where-condition for 'dateofdeath' is != 0 instead of > 0 to include all patients with a negative date of death.\n",
    "# According to an issue raised at GitHub, a negative 'dateofdeath' can occur if a patient has died early after admission. \n",
    "\n",
    "sepsis = pd.read_csv('sepsis.csv')[['admissionid', 'patientid', 'admissioncount', 'diagnosis_group', 'agegroup', 'weightgroup', 'gender', 'dateofdeath']]\n",
    "sepsis['dateofdeath'] = sepsis['dateofdeath'].fillna(0)\n",
    "sepsis['died'] = np.where(sepsis['dateofdeath'] != 0 , 1, 0)\n",
    "sepsis['died07'] = np.where((sepsis['dateofdeath'] != 0) & (sepsis['dateofdeath'] < 604800000), 1, 0)\n",
    "sepsis['died28'] = np.where((sepsis['dateofdeath'] != 0) & (sepsis['dateofdeath'] < 2419200000), 1, 0)"
   ]
  },
  {
   "cell_type": "code",
   "execution_count": 16,
   "metadata": {},
   "outputs": [],
   "source": [
    "# Merge DataFrames\n",
    "intake = pd.merge(sepsis, crystalloids_sum, how = 'left', on = 'admissionid') \\\n",
    "    .merge(colloids_sum, on = 'admissionid', how = 'left') \\\n",
    "    .merge(bloodproducts_sum, on = 'admissionid', how = 'left') \\\n",
    "    .merge(norepinephrine_sum, on = 'admissionid', how = 'left') \\\n",
    "    .merge(norepinephrine_max, on = 'admissionid', how = 'left')"
   ]
  },
  {
   "cell_type": "markdown",
   "metadata": {},
   "source": [
    "### Fill NA and drop out patients w/o norepinephrine or fluids"
   ]
  },
  {
   "cell_type": "code",
   "execution_count": 20,
   "metadata": {},
   "outputs": [],
   "source": [
    "# Fill NULL-values with 0\n",
    "intake['died'] = intake['died'].fillna(0)\n",
    "intake['crystalloids_ml'] = intake['crystalloids_ml'].fillna(0)\n",
    "intake['colloids_ml'] = intake['colloids_ml'].fillna(0)\n",
    "intake['bloodproducts_ml'] = intake['bloodproducts_ml'].fillna(0)\n",
    "intake['norepi_mcg'] = intake['norepi_mcg'].fillna(0)\n",
    "intake['total_fluids'] = intake['crystalloids_ml'] + intake['colloids_ml'] + intake['bloodproducts_ml']\n",
    "intake['nf_ratio'] = intake['norepi_mcg'] / intake['total_fluids']"
   ]
  },
  {
   "cell_type": "code",
   "execution_count": 21,
   "metadata": {},
   "outputs": [
    {
     "name": "stdout",
     "output_type": "stream",
     "text": [
      "Sepsis:  3136\n",
      "Crystalloids rows:  245001\n",
      "Colloids rows:  31593\n",
      "Blood products rows:  17634\n",
      "Norepinephrine rows:  119987\n",
      "Merged DataFrame rows:  3136\n"
     ]
    }
   ],
   "source": [
    "# Test if pandas merge is plausible\n",
    "print('Sepsis: ', len(sepsis))\n",
    "print('Crystalloids rows: ', len(crystalloids))\n",
    "print('Colloids rows: ', len(colloids))\n",
    "print('Blood products rows: ', len(bloodproducts))\n",
    "print('Norepinephrine rows: ', len(norepinephrine))\n",
    "print('Merged DataFrame rows: ', len(intake))"
   ]
  },
  {
   "cell_type": "code",
   "execution_count": 22,
   "metadata": {},
   "outputs": [
    {
     "name": "stdout",
     "output_type": "stream",
     "text": [
      "No Norepinephrine:  1200\n",
      "No fluids:  300\n"
     ]
    }
   ],
   "source": [
    "print('No Norepinephrine: ', len(intake[intake['norepi_mcg'] == 0]))\n",
    "print('No fluids: ', len(intake[intake['total_fluids'] == 0]))"
   ]
  },
  {
   "cell_type": "code",
   "execution_count": 23,
   "metadata": {},
   "outputs": [],
   "source": [
    "# Drop rows without norepinephrine and without fluids\n",
    "#intake = intake.drop(intake[(intake.norepinephrine_dose_mcg == 0) & (intake.total_fluids == 0)].index)\n",
    "intake = intake.drop(intake[(intake.norepi_mcg == 0) | \\\n",
    "                            (intake.norepi_max_dose == 0) | \\\n",
    "                            (intake.total_fluids == 0) | \\\n",
    "                            (intake.nf_ratio == 0)].index)"
   ]
  },
  {
   "cell_type": "markdown",
   "metadata": {},
   "source": [
    "## Demographics"
   ]
  },
  {
   "cell_type": "code",
   "execution_count": 24,
   "metadata": {},
   "outputs": [],
   "source": [
    "diagnosis = intake[['admissionid', 'diagnosis_group']].groupby(['diagnosis_group']).count()"
   ]
  },
  {
   "cell_type": "code",
   "execution_count": 25,
   "metadata": {},
   "outputs": [
    {
     "data": {
      "text/html": [
       "<div>\n",
       "<style scoped>\n",
       "    .dataframe tbody tr th:only-of-type {\n",
       "        vertical-align: middle;\n",
       "    }\n",
       "\n",
       "    .dataframe tbody tr th {\n",
       "        vertical-align: top;\n",
       "    }\n",
       "\n",
       "    .dataframe thead th {\n",
       "        text-align: right;\n",
       "    }\n",
       "</style>\n",
       "<table border=\"1\" class=\"dataframe\">\n",
       "  <thead>\n",
       "    <tr style=\"text-align: right;\">\n",
       "      <th></th>\n",
       "      <th>admissionid</th>\n",
       "    </tr>\n",
       "    <tr>\n",
       "      <th>agegroup</th>\n",
       "      <th></th>\n",
       "    </tr>\n",
       "  </thead>\n",
       "  <tbody>\n",
       "    <tr>\n",
       "      <th>18-39</th>\n",
       "      <td>187</td>\n",
       "    </tr>\n",
       "    <tr>\n",
       "      <th>40-49</th>\n",
       "      <td>210</td>\n",
       "    </tr>\n",
       "    <tr>\n",
       "      <th>50-59</th>\n",
       "      <td>311</td>\n",
       "    </tr>\n",
       "    <tr>\n",
       "      <th>60-69</th>\n",
       "      <td>463</td>\n",
       "    </tr>\n",
       "    <tr>\n",
       "      <th>70-79</th>\n",
       "      <td>479</td>\n",
       "    </tr>\n",
       "    <tr>\n",
       "      <th>80+</th>\n",
       "      <td>286</td>\n",
       "    </tr>\n",
       "  </tbody>\n",
       "</table>\n",
       "</div>"
      ],
      "text/plain": [
       "          admissionid\n",
       "agegroup             \n",
       "18-39             187\n",
       "40-49             210\n",
       "50-59             311\n",
       "60-69             463\n",
       "70-79             479\n",
       "80+               286"
      ]
     },
     "execution_count": 25,
     "metadata": {},
     "output_type": "execute_result"
    }
   ],
   "source": [
    "intake[['admissionid', 'agegroup']].groupby(['agegroup']).count()"
   ]
  },
  {
   "cell_type": "code",
   "execution_count": 26,
   "metadata": {},
   "outputs": [
    {
     "name": "stdout",
     "output_type": "stream",
     "text": [
      "Male:  1125\n",
      "Female:  752\n",
      "Unknown:  1184\n"
     ]
    }
   ],
   "source": [
    "print('Male: ', len(intake[intake['gender'] == 'Man']))\n",
    "print('Female: ', len(intake[intake['gender'] == 'Vrouw']))\n",
    "print('Unknown: ', len(intake[intake['gender'] != 'Vrouw']))"
   ]
  },
  {
   "cell_type": "markdown",
   "metadata": {},
   "source": [
    "## Statistics"
   ]
  },
  {
   "cell_type": "markdown",
   "metadata": {},
   "source": [
    "### Overall descriptive stats"
   ]
  },
  {
   "cell_type": "code",
   "execution_count": 27,
   "metadata": {},
   "outputs": [],
   "source": [
    "# Select \n",
    "intake_survived = intake[['died', 'dateofdeath', 'crystalloids_ml', 'colloids_ml', 'bloodproducts_ml', 'norepi_mcg', 'norepi_max_dose', 'total_fluids', 'nf_ratio']][intake['died'] == 0]\n",
    "intake_died = intake[['died', 'dateofdeath', 'crystalloids_ml', 'colloids_ml', 'bloodproducts_ml', 'norepi_mcg', 'norepi_max_dose', 'total_fluids', 'nf_ratio']][intake['died'] == 1]\n",
    "intake_died07 = intake[['died07', 'dateofdeath', 'crystalloids_ml', 'colloids_ml', 'bloodproducts_ml', 'norepi_mcg', 'norepi_max_dose', 'total_fluids', 'nf_ratio']][intake['died07'] == 1]\n",
    "intake_died28 = intake[['died28', 'dateofdeath', 'crystalloids_ml', 'colloids_ml', 'bloodproducts_ml', 'norepi_mcg', 'norepi_max_dose', 'total_fluids', 'nf_ratio']][intake['died28'] == 1]"
   ]
  },
  {
   "cell_type": "code",
   "execution_count": 28,
   "metadata": {},
   "outputs": [],
   "source": [
    "#intake_survived.describe()"
   ]
  },
  {
   "cell_type": "code",
   "execution_count": 29,
   "metadata": {},
   "outputs": [],
   "source": [
    "#intake_survived.median()"
   ]
  },
  {
   "cell_type": "code",
   "execution_count": 30,
   "metadata": {},
   "outputs": [],
   "source": [
    "#intake_died.describe()"
   ]
  },
  {
   "cell_type": "code",
   "execution_count": 31,
   "metadata": {},
   "outputs": [],
   "source": [
    "#intake_died07.describe()"
   ]
  },
  {
   "cell_type": "code",
   "execution_count": 32,
   "metadata": {},
   "outputs": [],
   "source": [
    "#intake_died28.describe()"
   ]
  },
  {
   "cell_type": "code",
   "execution_count": 33,
   "metadata": {},
   "outputs": [],
   "source": [
    "#intake['nf_ratio'].describe()"
   ]
  },
  {
   "cell_type": "code",
   "execution_count": 34,
   "metadata": {},
   "outputs": [],
   "source": [
    "#intake['norepi_max_dose'].describe()"
   ]
  },
  {
   "cell_type": "markdown",
   "metadata": {},
   "source": [
    "### NFR descriptive stats"
   ]
  },
  {
   "cell_type": "code",
   "execution_count": 35,
   "metadata": {},
   "outputs": [],
   "source": [
    "#intake['nf_ratio'][intake['died07'] ==0].describe()"
   ]
  },
  {
   "cell_type": "code",
   "execution_count": 36,
   "metadata": {},
   "outputs": [],
   "source": [
    "#intake['nf_ratio'][intake['died07'] ==1].describe()"
   ]
  },
  {
   "cell_type": "markdown",
   "metadata": {},
   "source": [
    "### Point-biserial correlation"
   ]
  },
  {
   "cell_type": "code",
   "execution_count": 37,
   "metadata": {},
   "outputs": [
    {
     "name": "stdout",
     "output_type": "stream",
     "text": [
      "NFR 7-day: PointbiserialrResult(correlation=0.19885501111387427, pvalue=1.0252934331518585e-18)\n",
      "NFR 28-day: PointbiserialrResult(correlation=0.21218937191409204, pvalue=3.800659183885538e-21)\n",
      "Norepinpehrine 7-day: PointbiserialrResult(correlation=0.21725491068645755, pvalue=4.0934986124189335e-22)\n",
      "Norepinpehrine 28-day: PointbiserialrResult(correlation=0.2453913042073014, pvalue=6.0685640636973175e-28)\n",
      "Fluids 7-day: PointbiserialrResult(correlation=0.015770458589901545, pvalue=0.48799887173999396)\n",
      "Fluids 28-day: PointbiserialrResult(correlation=0.03501108546924429, pvalue=0.12356890112174063)\n"
     ]
    }
   ],
   "source": [
    "pbc07 = pointbiserialr(intake['died07'], intake['nf_ratio'])\n",
    "pbc28 = pointbiserialr(intake['died28'], intake['nf_ratio'])\n",
    "pbc07_norepi = pointbiserialr(intake['died07'], intake['norepi_mcg'])\n",
    "pbc28_norepi = pointbiserialr(intake['died28'], intake['norepi_mcg'])\n",
    "pbc07_fluids = pointbiserialr(intake['died07'], intake['total_fluids'])\n",
    "pbc28_fluids = pointbiserialr(intake['died28'], intake['total_fluids'])\n",
    "\n",
    "print('NFR 7-day:', pbc07)\n",
    "print('NFR 28-day:', pbc28)\n",
    "print('Norepinpehrine 7-day:', pbc07_norepi)\n",
    "print('Norepinpehrine 28-day:', pbc28_norepi)\n",
    "print('Fluids 7-day:', pbc07_fluids)\n",
    "print('Fluids 28-day:', pbc28_fluids)"
   ]
  },
  {
   "cell_type": "markdown",
   "metadata": {},
   "source": [
    "### ROC AUC and Youden-Index"
   ]
  },
  {
   "cell_type": "code",
   "execution_count": 39,
   "metadata": {},
   "outputs": [
    {
     "name": "stdout",
     "output_type": "stream",
     "text": [
      "Observation period: 3.0 days\n",
      "\n",
      "NFR AUROC 7-day mortality: 0.71\n",
      "NFR AUROC 7-day mortality confidence interval: (0.67, 0.74)\n",
      "NFR Youden-Index 7-day mortality: 0.35\n",
      "NFR Optimal cut-off 7-day mortality: 4.99\n",
      "NFR Sensitivity 7-day mortality: 0.31\n",
      "NFR Specificity 7-day mortality: 0.89\n",
      "\n",
      "NFR AUROC 28-day mortality: 0.68\n",
      "NFR AUC-ROC 28-day mortality confidence interval: (0.65, 0.7)\n",
      "NFR Youden-Index 28-day mortality: 0.31\n",
      "NFR Optimal cut-off 28-day mortality: 4.71\n",
      "NFR Sensitivity 28-day mortality: 0.28\n",
      "NFR Specificity 28-day mortality: 0.89\n",
      "\n",
      "Norepinephrine AUROC 7-day mortality: 0.67\n",
      "Norepinephrine AUROC 7-day mortality confidence interval: (0.63, 0.7)\n",
      "Norepinephrine Youden-Index 7-day mortality: 0.26\n",
      "Norepinephrine optimal cut-off 7-day mortality: 59283.33\n",
      "Norepinephrine Sensitivity 7-day mortality: 0.27\n",
      "Norepinephrine Specificity 7-day mortality: 0.9\n",
      "\n",
      "Norepinephrine AUROC 28-day mortality: 0.66\n",
      "Norepinpehrine AUROC 28-day mortality confidence interval: (0.63, 0.69)\n",
      "Norepinheprine Youden-Index 28-day mortality: 0.26\n",
      "Norepinpehrine Optimal cut-off 28-day mortality: 39644.67\n",
      "Norepinephrine Sensitivity 28-day mortality: 0.29\n",
      "Norepinephrine Specificity 28-day mortality: 0.88\n",
      "\n",
      "Fluids AUROC 7-day mortality: 0.5\n",
      "Fluids AUROC 7-day mortality confidence interval: (0.47, 0.53)\n",
      "Fluids Youden-Index 7-day mortality: 0.07\n",
      "Fluids optimal cut-off 7-day mortality: 12808.8\n",
      "Fluids Sensitivity 7-day mortality: 0.07\n",
      "Fluids Specificity 7-day mortality: 0.95\n",
      "\n",
      "Fluids AUROC 28-day mortality: 0.53\n",
      "Fluids AUROC 28-day mortality confidence interval: (0.5, 0.55)\n",
      "Fluids Youden-Index 28-day mortality: 0.07\n",
      "Fluids optimal cut-off 28-day mortality: 8601.5\n",
      "Fluids Sensitivity 28-day mortality: 0.29\n",
      "Fluids Specificity 28-day mortality: 0.88\n"
     ]
    }
   ],
   "source": [
    "# Area under curve score is calculated using sklearn.metrics\n",
    "# Youden index is calculated as the maximal value of true positive rate (tpr) - false positive rate (fpr) \n",
    "# (= 1 - specificity)\n",
    "\n",
    "# NFR\n",
    "auc07 = roc_auc_score(intake['died07'], intake['nf_ratio'])\n",
    "fpr07, tpr07, thresholds07 = roc_curve(intake['died07'], intake['nf_ratio'])\n",
    "optimal_cutoff_pos07 = np.argmax(tpr07 - fpr07)\n",
    "optimal_cutoff07 = thresholds07[optimal_cutoff_pos07]\n",
    "youden_index07 = (tpr07 - fpr07)[optimal_cutoff_pos07]\n",
    "auroc_ci07 = roc_auc_ci(intake['died07'], intake['nf_ratio'])\n",
    "sensitivity07 = tpr07[140]\n",
    "specificity07 = 1-fpr07[140]\n",
    "\n",
    "auc28 = roc_auc_score(intake['died28'], intake['nf_ratio'])\n",
    "fpr28, tpr28, thresholds28 = roc_curve(intake['died28'], intake['nf_ratio'])\n",
    "optimal_cutoff_pos28 = np.argmax(tpr28 - fpr28)\n",
    "optimal_cutoff28 = thresholds28[optimal_cutoff_pos28]\n",
    "youden_index28 = (tpr28 - fpr28)[optimal_cutoff_pos28]\n",
    "auroc_ci28 = roc_auc_ci(intake['died28'], intake['nf_ratio'])\n",
    "sensitivity28 = tpr28[148]\n",
    "specificity28 = 1-fpr28[148]\n",
    "\n",
    "# Norepinephrine\n",
    "auc07_norepi = roc_auc_score(intake['died07'], intake['norepi_mcg'])\n",
    "fpr07_norepi, tpr07_norepi, thresholds07_norepi = roc_curve(intake['died07'], intake['norepi_mcg'])\n",
    "optimal_cutoff_pos07_norepi = np.argmax(tpr07_norepi - fpr07_norepi)\n",
    "optimal_cutoff07_norepi = thresholds07_norepi[optimal_cutoff_pos07_norepi]\n",
    "youden_index07_norepi = (tpr07_norepi - fpr07_norepi)[optimal_cutoff_pos07_norepi]\n",
    "auroc_ci07_norepi = roc_auc_ci(intake['died07'], intake['norepi_mcg'])\n",
    "sensitivity07_norepi = tpr07_norepi[126]\n",
    "specificity07_norepi = 1-fpr07_norepi[126]\n",
    "\n",
    "auc28_norepi = roc_auc_score(intake['died28'], intake['norepi_mcg'])\n",
    "fpr28_norepi, tpr28_norepi, thresholds28_norepi = roc_curve(intake['died28'], intake['norepi_mcg'])\n",
    "optimal_cutoff_pos28_norepi = np.argmax(tpr28_norepi - fpr28_norepi)\n",
    "optimal_cutoff28_norepi = thresholds28_norepi[optimal_cutoff_pos28_norepi]\n",
    "youden_index28_norepi = (tpr28_norepi - fpr28_norepi)[optimal_cutoff_pos28_norepi]\n",
    "auroc_ci28_norepi = roc_auc_ci(intake['died28'], intake['norepi_mcg'])\n",
    "sensitivity28_norepi = tpr28_norepi[168]\n",
    "specificity28_norepi = 1-fpr28_norepi[168]\n",
    "\n",
    "# Fluid intake\n",
    "auc07_fluids = roc_auc_score(intake['died07'], intake['total_fluids'])\n",
    "fpr07_fluids, tpr07_fluids, thresholds07_fluids = roc_curve(intake['died07'], intake['total_fluids'])\n",
    "optimal_cutoff_pos07_fluids = np.argmax(tpr07_fluids - fpr07_fluids)\n",
    "optimal_cutoff07_fluids = thresholds07_fluids[optimal_cutoff_pos07_fluids]\n",
    "youden_index07_fluids = (tpr07_fluids - fpr07_fluids)[optimal_cutoff_pos07_fluids]\n",
    "auroc_ci07_fluids = roc_auc_ci(intake['died07'], intake['total_fluids'])\n",
    "sensitivity07_fluids = tpr07_fluids[35]\n",
    "specificity07_fluids = 1-fpr07_fluids[35]\n",
    "\n",
    "auc28_fluids = roc_auc_score(intake['died28'], intake['total_fluids'])\n",
    "fpr28_fluids, tpr28_fluids, thresholds28_fluids = roc_curve(intake['died28'], intake['total_fluids'])\n",
    "optimal_cutoff_pos28_fluids = np.argmax(tpr28_fluids - fpr28_fluids)\n",
    "optimal_cutoff28_fluids = thresholds28_fluids[optimal_cutoff_pos28_fluids]\n",
    "youden_index28_fluids = (tpr28_fluids - fpr28_fluids)[optimal_cutoff_pos28_fluids]\n",
    "auroc_ci28_fluids = roc_auc_ci(intake['died28'], intake['total_fluids'])\n",
    "sensitivity28_fluids = tpr28_fluids[57]\n",
    "specificity28_fluids = 1-fpr28_fluids[57]\n",
    "\n",
    "print('Observation period:', fluid_period / (24 * 60 * 60 * 1000), 'days')\n",
    "print()\n",
    "print('NFR AUROC 7-day mortality:', round(auc07, 2))\n",
    "print('NFR AUROC 7-day mortality confidence interval:', auroc_ci07)\n",
    "print('NFR Youden-Index 7-day mortality:' , round(youden_index07, 2))\n",
    "print('NFR Optimal cut-off 7-day mortality:', round(optimal_cutoff07, 2))\n",
    "print('NFR Sensitivity 7-day mortality:', round(sensitivity07, 2))\n",
    "print('NFR Specificity 7-day mortality:', round(specificity07, 2))\n",
    "print()\n",
    "print('NFR AUROC 28-day mortality:', round(auc28, 2))\n",
    "print('NFR AUC-ROC 28-day mortality confidence interval:', auroc_ci28)\n",
    "print('NFR Youden-Index 28-day mortality:' , round(youden_index28, 2))\n",
    "print('NFR Optimal cut-off 28-day mortality:', round(optimal_cutoff28, 2))\n",
    "print('NFR Sensitivity 28-day mortality:', round(sensitivity28, 2))\n",
    "print('NFR Specificity 28-day mortality:', round(specificity28, 2))\n",
    "print()\n",
    "print('Norepinephrine AUROC 7-day mortality:', round(auc07_norepi, 2))\n",
    "print('Norepinephrine AUROC 7-day mortality confidence interval:', auroc_ci07_norepi)\n",
    "print('Norepinephrine Youden-Index 7-day mortality:' , round(youden_index07_norepi, 2))\n",
    "print('Norepinephrine optimal cut-off 7-day mortality:', round(optimal_cutoff07_norepi, 2))\n",
    "print('Norepinephrine Sensitivity 7-day mortality:', round(sensitivity07_norepi, 2))\n",
    "print('Norepinephrine Specificity 7-day mortality:', round(specificity07_norepi, 2))\n",
    "print()\n",
    "print('Norepinephrine AUROC 28-day mortality:', round(auc28_norepi, 2))\n",
    "print('Norepinpehrine AUROC 28-day mortality confidence interval:', auroc_ci28_norepi)\n",
    "print('Norepinheprine Youden-Index 28-day mortality:' , round(youden_index28_norepi, 2))\n",
    "print('Norepinpehrine Optimal cut-off 28-day mortality:', round(optimal_cutoff28_norepi, 2))\n",
    "print('Norepinephrine Sensitivity 28-day mortality:', round(sensitivity28_norepi, 2))\n",
    "print('Norepinephrine Specificity 28-day mortality:', round(specificity28_norepi, 2))\n",
    "print()\n",
    "print('Fluids AUROC 7-day mortality:', round(auc07_fluids, 2))\n",
    "print('Fluids AUROC 7-day mortality confidence interval:', auroc_ci07_fluids)\n",
    "print('Fluids Youden-Index 7-day mortality:' , round(youden_index07_fluids, 2))\n",
    "print('Fluids optimal cut-off 7-day mortality:', round(optimal_cutoff07_fluids, 2))\n",
    "print('Fluids Sensitivity 7-day mortality:', round(sensitivity07_fluids, 2))\n",
    "print('Fluids Specificity 7-day mortality:', round(specificity07_fluids, 2))\n",
    "print()\n",
    "print('Fluids AUROC 28-day mortality:', round(auc28_fluids, 2))\n",
    "print('Fluids AUROC 28-day mortality confidence interval:', auroc_ci28_fluids)\n",
    "print('Fluids Youden-Index 28-day mortality:' , round(youden_index28_fluids, 2))\n",
    "print('Fluids optimal cut-off 28-day mortality:', round(optimal_cutoff28_fluids, 2))\n",
    "print('Fluids Sensitivity 28-day mortality:', round(sensitivity28_norepi, 2))\n",
    "print('Fluids Specificity 28-day mortality:', round(specificity28_norepi, 2))"
   ]
  },
  {
   "cell_type": "markdown",
   "metadata": {},
   "source": [
    "### Odds ratio"
   ]
  },
  {
   "cell_type": "code",
   "execution_count": 40,
   "metadata": {},
   "outputs": [
    {
     "name": "stdout",
     "output_type": "stream",
     "text": [
      "nf_ratio  False  True \n",
      "died07                \n",
      "0           950    596\n",
      "1           103    287\n"
     ]
    }
   ],
   "source": [
    "# Create two-dimensional contingency table\n",
    "contingency_table_07 = pd.crosstab(index = intake.died07, columns = intake.nf_ratio >= optimal_cutoff07)\n",
    "contingency_table_28 = pd.crosstab(index = intake.died28, columns = intake.nf_ratio >= optimal_cutoff28)\n",
    "print(contingency_table_07)"
   ]
  },
  {
   "cell_type": "code",
   "execution_count": 41,
   "metadata": {},
   "outputs": [
    {
     "name": "stdout",
     "output_type": "stream",
     "text": [
      "7-day mortality Odds-Ratio: 4.44 p-Value: 6.611642764653097e-36\n",
      "28-day mortality Odds-Ratio: 3.57 p-Value: 4.147084831227955e-37\n"
     ]
    }
   ],
   "source": [
    "# Calculate odds-ratio\n",
    "oddsratio07, pvalue07 = stats.fisher_exact(contingency_table_07)\n",
    "oddsratio28, pvalue28 = stats.fisher_exact(contingency_table_28)\n",
    "print(\"7-day mortality Odds-Ratio:\", round(oddsratio07, 2), \"p-Value:\", pvalue07)\n",
    "print(\"28-day mortality Odds-Ratio:\", round(oddsratio28, 2), \"p-Value:\", pvalue28)"
   ]
  },
  {
   "cell_type": "markdown",
   "metadata": {},
   "source": [
    "### Relative risk"
   ]
  },
  {
   "cell_type": "code",
   "execution_count": 42,
   "metadata": {},
   "outputs": [
    {
     "name": "stdout",
     "output_type": "stream",
     "text": [
      "nf_ratio  False  True \n",
      "died07                \n",
      "0           950    596\n",
      "1           103    287\n",
      "nf_ratio  False  True \n",
      "died28                \n",
      "0           822    484\n",
      "1           203    427\n"
     ]
    }
   ],
   "source": [
    "print(contingency_table_07)\n",
    "print(contingency_table_28)"
   ]
  },
  {
   "cell_type": "code",
   "execution_count": 44,
   "metadata": {},
   "outputs": [
    {
     "name": "stdout",
     "output_type": "stream",
     "text": [
      "Relative risk 7-day mortality: 3.32\n",
      "Relative risk 28-day mortality: 2.37\n"
     ]
    }
   ],
   "source": [
    "rel_risk_nfr07 = (287 / (287+596)) / (103 / (103+950))\n",
    "rel_risk_nfr28 = (427 / (427+484)) / (203 / (203+822))\n",
    "print('Relative risk 7-day mortality:', round(rel_risk_nfr07, 2))\n",
    "print('Relative risk 28-day mortality:', round(rel_risk_nfr28, 2))"
   ]
  },
  {
   "cell_type": "markdown",
   "metadata": {},
   "source": [
    "## Plots"
   ]
  },
  {
   "cell_type": "markdown",
   "metadata": {},
   "source": [
    "### ROC-Curve"
   ]
  },
  {
   "cell_type": "code",
   "execution_count": null,
   "metadata": {},
   "outputs": [],
   "source": [
    "sns.set_theme()\n",
    "sns.set_style('whitegrid')"
   ]
  },
  {
   "cell_type": "code",
   "execution_count": null,
   "metadata": {},
   "outputs": [],
   "source": [
    "fpr07_df = pd.DataFrame({'fpr07': fpr07}).melt(var_name = 'fpr', value_name = 'fpr_val')\n",
    "tpr07_df = pd.DataFrame({'tpr07': tpr07}).melt(var_name = 'tpr', value_name = 'tpr_val')\n",
    "fpr28_df = pd.DataFrame({'fpr28': fpr28}).melt(var_name = 'fpr', value_name = 'fpr_val')\n",
    "tpr28_df = pd.DataFrame({'tpr28': tpr28}).melt(var_name = 'tpr', value_name = 'tpr_val')"
   ]
  },
  {
   "cell_type": "code",
   "execution_count": null,
   "metadata": {},
   "outputs": [],
   "source": [
    "fprdf = fpr07_df.append(fpr28_df, ignore_index=True)\n",
    "tprdf = tpr07_df.append(tpr28_df, ignore_index=True)\n",
    "auc_values_lf = fprdf.join(tprdf)"
   ]
  },
  {
   "cell_type": "code",
   "execution_count": null,
   "metadata": {},
   "outputs": [],
   "source": [
    "ax = sns.lineplot(x = 'fpr_val', \n",
    "                  y = 'tpr_val', \n",
    "                  hue = 'fpr', \n",
    "                  data = auc_values_lf,\n",
    "                  style = \"fpr\")\n",
    "ax.set_aspect(\"equal\")\n",
    "ax.set(xlabel = '1 - Specificity', ylabel = 'Sensitivity')\n",
    "ax.legend(title='ROC-curve', loc='lower right', labels=['7-day mortality', '28-day mortality'])\n",
    "\n",
    "# Save plot\n",
    "plt.savefig('img/auroc.png', dpi=300)"
   ]
  },
  {
   "cell_type": "markdown",
   "metadata": {},
   "source": [
    "### Distribution"
   ]
  },
  {
   "cell_type": "code",
   "execution_count": null,
   "metadata": {},
   "outputs": [],
   "source": [
    "sns.histplot(x = 'nf_ratio', data = intake, hue='died07', log_scale=True)\n",
    "plt.axvline(optimal_cutoff07)"
   ]
  },
  {
   "cell_type": "code",
   "execution_count": null,
   "metadata": {},
   "outputs": [],
   "source": [
    "sns.displot(x = 'nf_ratio', data = intake, hue='died07', kind='kde', log_scale=True, fill=True)\n",
    "plt.axvline(optimal_cutoff07)"
   ]
  },
  {
   "cell_type": "code",
   "execution_count": null,
   "metadata": {},
   "outputs": [],
   "source": [
    "sns.displot(x = 'nf_ratio', data = intake, hue='died28', kind='kde', log_scale=True, fill=True)\n",
    "plt.axvline(optimal_cutoff28)"
   ]
  },
  {
   "cell_type": "code",
   "execution_count": null,
   "metadata": {},
   "outputs": [],
   "source": [
    "sns.displot(x = 'nf_ratio', data = intake, hue='died07', log_scale=True, kind='ecdf')"
   ]
  },
  {
   "cell_type": "markdown",
   "metadata": {},
   "source": [
    "### Boxplot"
   ]
  },
  {
   "cell_type": "code",
   "execution_count": null,
   "metadata": {},
   "outputs": [],
   "source": [
    "lf07 = intake[['died07']].melt(value_name='died').join(intake[['nf_ratio']].melt(var_name='nfr', value_name='nfratio'))\n",
    "lf28 = intake[['died28']].melt(value_name='died').join(intake[['nf_ratio']].melt(var_name='nfr', value_name='nfratio'))"
   ]
  },
  {
   "cell_type": "code",
   "execution_count": null,
   "metadata": {},
   "outputs": [],
   "source": [
    "boxplot_lf = lf07.append(lf28, ignore_index=True)"
   ]
  },
  {
   "cell_type": "code",
   "execution_count": null,
   "metadata": {},
   "outputs": [],
   "source": [
    "boxplot_lf.head()"
   ]
  },
  {
   "cell_type": "code",
   "execution_count": null,
   "metadata": {},
   "outputs": [],
   "source": [
    "sns.boxplot(x = 'died', y = 'nfratio', hue = 'variable', data = boxplot_lf, showfliers = False)"
   ]
  },
  {
   "cell_type": "code",
   "execution_count": null,
   "metadata": {},
   "outputs": [],
   "source": [
    "ax = sns.boxplot(x = intake['died07'],y=intake['nf_ratio'], showfliers=False)\n",
    "ax.set_xticklabels(['Survivors', 'Non-Survivors'])\n",
    "ax.set(xlabel = '', ylabel = 'Norepinephrine-fluid-ratio')\n",
    "plt.savefig('img/boxplot_survival.png')"
   ]
  },
  {
   "cell_type": "code",
   "execution_count": null,
   "metadata": {},
   "outputs": [],
   "source": []
  }
 ],
 "metadata": {
  "kernelspec": {
   "display_name": "Python 3 (ipykernel)",
   "language": "python",
   "name": "python3"
  },
  "language_info": {
   "codemirror_mode": {
    "name": "ipython",
    "version": 3
   },
   "file_extension": ".py",
   "mimetype": "text/x-python",
   "name": "python",
   "nbconvert_exporter": "python",
   "pygments_lexer": "ipython3",
   "version": "3.9.2"
  }
 },
 "nbformat": 4,
 "nbformat_minor": 4
}
